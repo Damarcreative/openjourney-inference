{
  "nbformat": 4,
  "nbformat_minor": 0,
  "metadata": {
    "colab": {
      "provenance": [],
      "gpuType": "T4"
    },
    "kernelspec": {
      "name": "python3",
      "display_name": "Python 3"
    },
    "language_info": {
      "name": "python"
    },
    "accelerator": "GPU"
  },
  "cells": [
    {
      "cell_type": "markdown",
      "source": [
        "<a target=\"_blank\" href=\"https://colab.research.google.com/github/Damarcreative/openjourney-inference/blob/main/inference.ipynb\">\n",
        "  <img src=\"https://colab.research.google.com/assets/colab-badge.svg\" alt=\"Open In Colab\"/>\n",
        "</a>\n"
      ],
      "metadata": {
        "id": "B8H6ohuGOFWs"
      }
    },
    {
      "cell_type": "code",
      "source": [
        "#@title Install dependencies\n",
        "!pip install -q diffusers transformers omegaconf accelerate gradio"
      ],
      "metadata": {
        "cellView": "form",
        "id": "B9DnpeRvNg1E"
      },
      "execution_count": null,
      "outputs": []
    },
    {
      "cell_type": "code",
      "execution_count": null,
      "metadata": {
        "cellView": "form",
        "id": "9SDQ6ijeSB_J"
      },
      "outputs": [],
      "source": [
        "#@title Load Libraries and Model\n",
        "import gradio as gr\n",
        "import os\n",
        "import re\n",
        "import torch\n",
        "from diffusers import (\n",
        "    StableDiffusionPipeline,\n",
        "    DDPMScheduler,\n",
        "    DDIMScheduler,\n",
        "    PNDMScheduler,\n",
        "    LMSDiscreteScheduler,\n",
        "    EulerDiscreteScheduler,\n",
        "    EulerAncestralDiscreteScheduler,\n",
        "    DPMSolverMultistepScheduler\n",
        ")\n",
        "import os\n",
        "from PIL import Image\n",
        "\n",
        "repo_id = \"prompthero/openjourney-v4\"\n",
        "pipe = StableDiffusionPipeline.from_pretrained(repo_id,\n",
        "                                               torch_dtype=torch.float16,\n",
        "                                               use_karras_sigmas=True,\n",
        "                                               algorithm_type=\"sde-dpmsolver++\"\n",
        "                                              )\n",
        "pipe.to(\"cuda\")"
      ]
    },
    {
      "cell_type": "code",
      "source": [
        "#@title Run with UI\n",
        "scheduler_types = [\"LMSDiscreteScheduler\", \"DDIMScheduler\", \"DPMSolverMultistepScheduler\",\n",
        "                   \"EulerDiscreteScheduler\", \"PNDMScheduler\", \"DDPMScheduler\",\n",
        "                   \"EulerAncestralDiscreteScheduler\"]\n",
        "\n",
        "# Add a dropdown for selecting the scheduler type\n",
        "scheduler_type_dropdown = gr.Dropdown(choices=scheduler_types, label=\"Scheduler Type\")\n",
        "\n",
        "# @markdown Location to save image results::\n",
        "folder_path = \"/content/\" # @param {type:\"string\"}\n",
        "output_folder = folder_path + \"/\"\n",
        "\n",
        "def find_last_image_number():\n",
        "    # Find the last image number in the folder\n",
        "    image_files = [f for f in os.listdir(output_folder) if f.startswith(\"images_\") and f.endswith(\".png\")]\n",
        "    if not image_files:\n",
        "        return 0  # No existing images\n",
        "    last_number = max(int(re.search(r'\\d+', f).group()) for f in image_files)\n",
        "    return last_number\n",
        "\n",
        "# Variable to keep track of the count\n",
        "existing_image_count = find_last_image_number()\n",
        "\n",
        "def generate_image(scheduler_type, prompt, negative_prompt, width, height, guidance_scale, num_inference_steps):\n",
        "    global existing_image_count\n",
        "    existing_image_count += 1\n",
        "\n",
        "    output_path = os.path.join(output_folder, f\"images_{existing_image_count}.png\")\n",
        "   # Assuming 'pipe' is defined or imported\n",
        "    if scheduler_type == \"LMSDiscreteScheduler\":\n",
        "        pipe.scheduler = LMSDiscreteScheduler.from_config(pipe.scheduler.config)\n",
        "    elif scheduler_type == \"DDIMScheduler\":\n",
        "        pipe.scheduler = DDIMScheduler.from_config(pipe.scheduler.config)\n",
        "    elif scheduler_type == \"DPMSolverMultistepScheduler\":\n",
        "        pipe.scheduler = DPMSolverMultistepScheduler.from_config(pipe.scheduler.config)\n",
        "    elif scheduler_type == \"EulerDiscreteScheduler\":\n",
        "        pipe.scheduler = EulerDiscreteScheduler.from_config(pipe.scheduler.config)\n",
        "    elif scheduler_type == \"PNDMScheduler\":\n",
        "        pipe.scheduler = PNDMScheduler.from_config(pipe.scheduler.config)\n",
        "    elif scheduler_type == \"DDPMScheduler\":\n",
        "        pipe.scheduler = DDPMScheduler.from_config(pipe.scheduler.config)\n",
        "    elif scheduler_type == \"EulerAncestralDiscreteScheduler\":\n",
        "        # pipe.scheduler = EulerAncestralDiscreteScheduler.from_config(pipe.scheduler.config)\n",
        "        pipe.scheduler = EulerAncestralDiscreteScheduler(num_train_timesteps=1000, beta_start=0.00085, beta_end=0.012, beta_schedule=\"scaled_linear\")\n",
        "\n",
        "    image = pipe(\n",
        "        prompt=prompt,\n",
        "        negative_prompt=negative_prompt,\n",
        "        width=width,\n",
        "        height=height,\n",
        "        guidance_scale=guidance_scale,\n",
        "        num_inference_steps=num_inference_steps,\n",
        "    ).images[0]\n",
        "\n",
        "    image.save(output_path)\n",
        "    return output_path\n",
        "\n",
        "input_prompt = gr.Textbox(label=\"Masukkan Prompt\")\n",
        "input_negative_prompt = gr.Textbox(label=\"Masukkan Prompt Negatif\")\n",
        "slider_width = gr.Slider(minimum=512, maximum=1024, label=\"Width\")\n",
        "slider_height = gr.Slider(minimum=512, maximum=1024, label=\"Height\")\n",
        "slider_guidance_scale = gr.Slider(minimum=6, maximum=24, label=\"Guidance Scale\")\n",
        "slider_num_inference_steps = gr.Slider(minimum=20, maximum=200, label=\"Num Inference Steps\")\n",
        "output_image = gr.Image(label=\"Hasil Gambar\")\n",
        "\n",
        "def handle_generate_button(scheduler_type, prompt, negative_prompt, width, height, guidance_scale, num_inference_steps):\n",
        "    output_path = generate_image(scheduler_type, prompt, negative_prompt, width, height, guidance_scale, num_inference_steps)\n",
        "    return output_path\n",
        "\n",
        "iface = gr.Interface(\n",
        "    fn=handle_generate_button,\n",
        "    inputs=[scheduler_type_dropdown, input_prompt, input_negative_prompt, slider_width, slider_height, slider_guidance_scale, slider_num_inference_steps],\n",
        "    outputs=output_image,\n",
        "    title=\"Openjourney\",\n",
        "    description = \"tes\"\n",
        ")\n",
        "\n",
        "iface.launch()"
      ],
      "metadata": {
        "colab": {
          "base_uri": "https://localhost:8080/",
          "height": 646
        },
        "cellView": "form",
        "id": "Za0O8VtMYHtw",
        "outputId": "6c89e135-7ec7-49e1-9996-912eedebcb80"
      },
      "execution_count": 4,
      "outputs": [
        {
          "output_type": "stream",
          "name": "stdout",
          "text": [
            "Setting queue=True in a Colab notebook requires sharing enabled. Setting `share=True` (you can turn this off by setting `share=False` in `launch()` explicitly).\n",
            "\n",
            "Colab notebook detected. To show errors in colab notebook, set debug=True in launch()\n",
            "Running on public URL: https://6bf64b8cec4ff0719c.gradio.live\n",
            "\n",
            "This share link expires in 72 hours. For free permanent hosting and GPU upgrades, run `gradio deploy` from Terminal to deploy to Spaces (https://huggingface.co/spaces)\n"
          ]
        },
        {
          "output_type": "display_data",
          "data": {
            "text/plain": [
              "<IPython.core.display.HTML object>"
            ],
            "text/html": [
              "<div><iframe src=\"https://6bf64b8cec4ff0719c.gradio.live\" width=\"100%\" height=\"500\" allow=\"autoplay; camera; microphone; clipboard-read; clipboard-write;\" frameborder=\"0\" allowfullscreen></iframe></div>"
            ]
          },
          "metadata": {}
        },
        {
          "output_type": "execute_result",
          "data": {
            "text/plain": []
          },
          "metadata": {},
          "execution_count": 4
        }
      ]
    },
    {
      "cell_type": "code",
      "source": [],
      "metadata": {
        "id": "_7YxiGwPOcZa"
      },
      "execution_count": null,
      "outputs": []
    },
    {
      "cell_type": "markdown",
      "source": [
        "\n",
        "Huggingface: https://huggingface.co/DamarJati\n",
        "\n",
        "Github: https://github.com/Damarcreative\n",
        "\n",
        "Instagram: @Damar_shop & @Pixonelab\n",
        "\n",
        "Mail: dev@damarcreative.my.id\n",
        "\n",
        "Site: www.damarcreative.my.id\n",
        "\n",
        "------"
      ],
      "metadata": {
        "id": "09hCAio6OYE6"
      }
    }
  ]
}